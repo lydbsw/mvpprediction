{
 "cells": [
  {
   "cell_type": "markdown",
   "id": "375e3978",
   "metadata": {},
   "source": [
    "# NBA MVP Prediction Using Machine Learning\n",
    "This notebook follows the same structure as `mvp_prediction.py`, loading data, preprocessing, training three models (Logistic Regression, Random Forest, XGBoost), evaluating them, plotting ROC curves, and running SHAP interpretability."
   ]
  },
  {
   "cell_type": "code",
   "execution_count": 2,
   "id": "d6560847",
   "metadata": {},
   "outputs": [
    {
     "name": "stderr",
     "output_type": "stream",
     "text": [
      "/Users/slcfs/Documents/mvpprediction/myenv/lib/python3.13/site-packages/tqdm/auto.py:21: TqdmWarning: IProgress not found. Please update jupyter and ipywidgets. See https://ipywidgets.readthedocs.io/en/stable/user_install.html\n",
      "  from .autonotebook import tqdm as notebook_tqdm\n"
     ]
    }
   ],
   "source": [
    "import pandas as pd\n",
    "import numpy as np\n",
    "import matplotlib.pyplot as plt\n",
    "import shap\n",
    "import seaborn as sns\n",
    "from sklearn.model_selection import train_test_split\n",
    "from sklearn.preprocessing import StandardScaler\n",
    "from sklearn.pipeline import Pipeline\n",
    "from sklearn.linear_model import LogisticRegression\n",
    "from sklearn.ensemble import RandomForestClassifier\n",
    "import xgboost as xgb\n",
    "from sklearn.metrics import (\n",
    "    classification_report,\n",
    "    roc_auc_score,\n",
    "    confusion_matrix,\n",
    "    roc_curve\n",
    ")\n",
    "\n",
    "# Load player-season dataset\n",
    "nba_df = pd.read_csv(\"data/NBA_Dataset.csv\")\n",
    "nba_df[\"player\"] = nba_df[\"player\"].str.strip()\n",
    "nba_df[\"season\"] = nba_df[\"season\"].astype(int)\n",
    "\n",
    "# Load MVP voting data\n",
    "mvp_2001_2010 = pd.read_csv(\"data/2001-2010 MVP Data.csv\")\n",
    "mvp_2010_2021 = pd.read_csv(\"data/2010-2021 MVP Data.csv\")\n",
    "mvp_2022_2023 = pd.read_csv(\"data/2022-2023 MVP Data.csv\")\n",
    "mvp_all = pd.concat([mvp_2001_2010, mvp_2010_2021, mvp_2022_2023], ignore_index=True)\n",
    "mvp_all[\"player\"] = mvp_all[\"Player\"].str.strip()\n",
    "mvp_all[\"season\"] = mvp_all[\"year\"].astype(int)\n",
    "mvp_all[\"Rank\"] = pd.to_numeric(mvp_all[\"Rank\"], errors=\"coerce\")\n",
    "mvp_all[\"label\"] = mvp_all[\"Rank\"].apply(lambda r: 1 if r == 1 else (2 if r <= 3 else (3 if r <= 10 else 0)))\n",
    "mvp_labels = mvp_all[[\"season\", \"player\", \"label\"]]\n",
    "\n",
    "# Load RAPTOR data and merge\n",
    "rap_h = pd.read_csv(\"data/historical_RAPTOR_by_player.csv\")\n",
    "rap_m = pd.read_csv(\"data/modern_RAPTOR_by_player.csv\")\n",
    "rap_cols = [\"player_name\", \"season\", \"raptor_offense\", \"raptor_defense\", \"raptor_total\"]\n",
    "rap = pd.concat([rap_h[rap_cols], rap_m[rap_cols]], ignore_index=True)\n",
    "rap = rap.drop_duplicates(subset=[\"player_name\", \"season\"])\n",
    "rap = rap.rename(columns={\"player_name\": \"player\"})\n",
    "\n",
    "# Merge datasets\n",
    "bb = nba_df.copy()\n",
    "df = bb.merge(rap, on=[\"season\", \"player\"], how=\"left\").merge(mvp_labels, on=[\"season\", \"player\"], how=\"left\")\n",
    "df[\"label\"] = df[\"label\"].fillna(0).astype(int)\n",
    "df = df[(df[\"season\"] >= 2001) & (df[\"season\"] <= 2022) & (df[\"mp\"] >= 1000)]\n",
    "num_cols = df.select_dtypes(include=[np.number]).columns\n",
    "df[num_cols] = df[num_cols].fillna(df[num_cols].median())"
   ]
  },
  {
   "cell_type": "code",
   "execution_count": 3,
   "id": "a5f32da6",
   "metadata": {},
   "outputs": [],
   "source": [
    "# Define features and label\n",
    "features = [\n",
    "    \"ws\", \"bpm\", \"vorp\", \"pts_per_g\", \"ast_per_g\", \"trb_per_g\",\n",
    "    \"usg_pct\", \"ts_pct\", \"raptor_total\", \"win_loss_pct\"\n",
    "]\n",
    "X = df[features]\n",
    "y = df[\"label\"]\n"
   ]
  },
  {
   "cell_type": "code",
   "execution_count": 4,
   "id": "2393ea6c",
   "metadata": {},
   "outputs": [
    {
     "name": "stderr",
     "output_type": "stream",
     "text": [
      "/Users/slcfs/Documents/mvpprediction/myenv/lib/python3.13/site-packages/xgboost/training.py:183: UserWarning: [16:47:20] WARNING: /Users/runner/work/xgboost/xgboost/src/learner.cc:738: \n",
      "Parameters: { \"use_label_encoder\" } are not used.\n",
      "\n",
      "  bst.update(dtrain, iteration=i, fobj=obj)\n"
     ]
    }
   ],
   "source": [
    "# Train/test split (time-aware)\n",
    "train_df = df[df[\"season\"] <= 2018]\n",
    "test_df = df[df[\"season\"] > 2018]\n",
    "X_train = train_df[features]\n",
    "y_train = train_df[\"label\"]\n",
    "X_test = test_df[features]\n",
    "y_test = test_df[\"label\"]\n",
    "\n",
    "# Train model\n",
    "clf = RandomForestClassifier(n_estimators=100, random_state=42, class_weight=\"balanced\")\n",
    "clf.fit(X_train, y_train)"
   ]
  },
  {
   "cell_type": "code",
   "execution_count": 5,
   "id": "a38c8c34",
   "metadata": {},
   "outputs": [
    {
     "name": "stdout",
     "output_type": "stream",
     "text": [
      "=== LogisticRegression ===\n",
      "              precision    recall  f1-score   support\n",
      "\n",
      "           0      0.999     1.000     1.000      3532\n",
      "           1      0.857     0.750     0.800         8\n",
      "\n",
      "    accuracy                          0.999      3540\n",
      "   macro avg      0.928     0.875     0.900      3540\n",
      "weighted avg      0.999     0.999     0.999      3540\n",
      "\n",
      "ROC AUC: 0.999\n",
      "Confusion Matrix: TN=3531, FP=1, FN=2, TP=6\n",
      "\n",
      "=== RandomForest ===\n",
      "              precision    recall  f1-score   support\n",
      "\n",
      "           0      0.999     1.000     0.999      3532\n",
      "           1      0.800     0.500     0.615         8\n",
      "\n",
      "    accuracy                          0.999      3540\n",
      "   macro avg      0.899     0.750     0.807      3540\n",
      "weighted avg      0.998     0.999     0.998      3540\n",
      "\n",
      "ROC AUC: 0.998\n",
      "Confusion Matrix: TN=3531, FP=1, FN=4, TP=4\n",
      "\n",
      "=== XGBoost ===\n",
      "              precision    recall  f1-score   support\n",
      "\n",
      "           0      0.999     0.999     0.999      3532\n",
      "           1      0.571     0.500     0.533         8\n",
      "\n",
      "    accuracy                          0.998      3540\n",
      "   macro avg      0.785     0.750     0.766      3540\n",
      "weighted avg      0.998     0.998     0.998      3540\n",
      "\n",
      "ROC AUC: 0.994\n",
      "Confusion Matrix: TN=3529, FP=3, FN=4, TP=4\n",
      "\n"
     ]
    }
   ],
   "source": [
    "# Evaluate\n",
    "y_pred = clf.predict(X_test)\n",
    "print(classification_report(y_test, y_pred))\n",
    "\n",
    "# Confusion matrix\n",
    "cm = confusion_matrix(y_test, y_pred)\n",
    "sns.heatmap(cm, annot=True, fmt=\"d\", cmap=\"Blues\", xticklabels=[0,1,2,3], yticklabels=[0,1,2,3])\n",
    "plt.xlabel(\"Predicted\")\n",
    "plt.ylabel(\"Actual\")\n",
    "plt.title(\"Confusion Matrix: MVP Label Prediction\")\n",
    "plt.show()\n"
   ]
  }
 ],
 "metadata": {
  "kernelspec": {
   "display_name": "Python 3",
   "language": "python",
   "name": "python3"
  },
  "language_info": {
   "codemirror_mode": {
    "name": "ipython",
    "version": 3
   },
   "file_extension": ".py",
   "mimetype": "text/x-python",
   "name": "python",
   "nbconvert_exporter": "python",
   "pygments_lexer": "ipython3",
   "version": "3.13.2"
  }
 },
 "nbformat": 4,
 "nbformat_minor": 5
}
